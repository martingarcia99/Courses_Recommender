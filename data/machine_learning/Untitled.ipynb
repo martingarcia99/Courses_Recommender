{
 "cells": [
  {
   "cell_type": "code",
   "execution_count": 1,
   "metadata": {},
   "outputs": [
    {
     "name": "stderr",
     "output_type": "stream",
     "text": [
      "[nltk_data] Downloading package wordnet to /home/meteng/nltk_data...\n",
      "[nltk_data]   Package wordnet is already up-to-date!\n",
      "[nltk_data] Downloading package stopwords to /home/meteng/nltk_data...\n",
      "[nltk_data]   Package stopwords is already up-to-date!\n"
     ]
    },
    {
     "data": {
      "text/plain": [
       "True"
      ]
     },
     "execution_count": 1,
     "metadata": {},
     "output_type": "execute_result"
    }
   ],
   "source": [
    "import re\n",
    "import os\n",
    "import nltk\n",
    "import string\n",
    "import pandas as pd\n",
    "from bs4 import BeautifulSoup\n",
    "from dotenv import load_dotenv\n",
    "from pymongo import MongoClient\n",
    "from nltk.corpus import stopwords\n",
    "from nltk.stem import PorterStemmer \n",
    "from nltk.tokenize import word_tokenize \n",
    "from nltk.stem import WordNetLemmatizer \n",
    "nltk.download('wordnet')\n",
    "nltk.download('stopwords')"
   ]
  },
  {
   "cell_type": "code",
   "execution_count": 6,
   "metadata": {
    "scrolled": true
   },
   "outputs": [
    {
     "name": "stdout",
     "output_type": "stream",
     "text": [
      "name\n",
      "description\n",
      "learning_targets\n",
      "pre_qualifications\n"
     ]
    },
    {
     "data": {
      "text/plain": [
       "0      \n",
       "1      \n",
       "2      \n",
       "3      \n",
       "4      \n",
       "     ..\n",
       "68     \n",
       "69     \n",
       "70     \n",
       "71     \n",
       "72     \n",
       "Name: pre_qualifications, Length: 73, dtype: object"
      ]
     },
     "execution_count": 6,
     "metadata": {},
     "output_type": "execute_result"
    }
   ],
   "source": [
    "ps = PorterStemmer() \n",
    "lemmatizer = WordNetLemmatizer() \n",
    "load_dotenv()\n",
    "\n",
    "DATABASE_NAME = os.getenv(\"DATABASE_NAME\")\n",
    "DATABASE_PASSWORD = os.getenv(\"DATABASE_PASSWORD\")\n",
    "\n",
    "client = MongoClient(\"mongodb+srv://martin:{}@cluster0.ehkpp.mongodb.net/{}?retryWrites=true&w=majority\".format(DATABASE_PASSWORD,DATABASE_NAME))\n",
    "\n",
    "#client = MongoClient()\n",
    "db = client.get_database(DATABASE_NAME)\n",
    "\n",
    "lectures = db.lecture_profiles\n",
    "\n",
    "df = pd.DataFrame(list(lectures.find()))\n",
    "data=df.drop(columns = ['_id', 'avg_rating', 'assigned_people', 'language', 'course_format', 'study_courses', 'positive_comments', 'negative_comments', 'lecture_id', 'semester', 'comments'])\n",
    "\n",
    "for col in data.columns:\n",
    "    print(col)\n",
    "    \n",
    "data['pre_qualifications']"
   ]
  },
  {
   "cell_type": "code",
   "execution_count": null,
   "metadata": {},
   "outputs": [],
   "source": [
    "def remove_html(text):\n",
    "    soup = BeautifulSoup(text, 'lxml')\n",
    "    html_free = soup.get_text()\n",
    "    return html_free\n",
    "\n",
    "input_text='''Iam <435*&(*&%_:cleaning (*&^the)) *&text'''\n",
    "input_text = 'I am passing the input sentence here. so we will see what happens with this and.'\n",
    "\n",
    "stop_words = set(stopwords.words('english')) \n",
    "word_tokens = word_tokenize(input_text) \n",
    "output_text = [w for w in word_tokens if not w in stop_words] \n",
    "  \n",
    "#print(word_tokens) \n",
    "#print(output_text)\n",
    "#print(\"studies:\", lemmatizer.lemmatize(\"studies\")) \n",
    "#print(\"corpora :\", lemmatizer.lemmatize(\"corpora\")) \n",
    "  \n",
    "#print(\"better :\", lemmatizer.lemmatize(\"better\", pos =\"n\"))\n",
    "\n",
    "def clean_text(text):#will replace the html characters with \" \"\n",
    "    text=re.sub('<.*?>', ' ', text)  \n",
    "    #To remove the punctuations\n",
    "    text = text.translate(str.maketrans(' ',' ',string.punctuation))\n",
    "    #will consider only alphabets and numerics\n",
    "    text = re.sub('[^a-zA-Z]',' ',text)  \n",
    "    #will replace newline with space\n",
    "    text = re.sub(\"\\n\",\" \",text)\n",
    "    #will convert to lower case\n",
    "    text = text.lower()\n",
    "    # will split and join the words\n",
    "    text=' '.join(text.split())\n",
    "    return text#Running the Funtion\n",
    "\n",
    "new_text=clean_text(input_text)\n"
   ]
  }
 ],
 "metadata": {
  "kernelspec": {
   "display_name": "Python 3",
   "language": "python",
   "name": "python3"
  },
  "language_info": {
   "codemirror_mode": {
    "name": "ipython",
    "version": 3
   },
   "file_extension": ".py",
   "mimetype": "text/x-python",
   "name": "python",
   "nbconvert_exporter": "python",
   "pygments_lexer": "ipython3",
   "version": "3.8.3"
  }
 },
 "nbformat": 4,
 "nbformat_minor": 4
}
